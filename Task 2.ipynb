{
 "cells": [
  {
   "cell_type": "markdown",
   "id": "e9ac8ca8",
   "metadata": {},
   "source": [
    "# PASSWORD GENERATOR"
   ]
  },
  {
   "cell_type": "code",
   "execution_count": 2,
   "id": "50fa1239",
   "metadata": {},
   "outputs": [
    {
     "name": "stdout",
     "output_type": "stream",
     "text": [
      "enter the length of req. password: 12\n",
      "enter the number of req. password: 2\n",
      "The genrated password is S\n",
      "The genrated password is Sd\n",
      "The genrated password is Sdr\n",
      "The genrated password is SdrF\n",
      "The genrated password is SdrFE\n",
      "The genrated password is SdrFEz\n",
      "The genrated password is SdrFEzy\n",
      "The genrated password is SdrFEzy*\n",
      "The genrated password is SdrFEzy*u\n",
      "The genrated password is SdrFEzy*uw\n",
      "The genrated password is SdrFEzy*uwU\n",
      "The genrated password is SdrFEzy*uwUp\n",
      "The genrated password is m\n",
      "The genrated password is mT\n",
      "The genrated password is mTH\n",
      "The genrated password is mTH_\n",
      "The genrated password is mTH_H\n",
      "The genrated password is mTH_Hz\n",
      "The genrated password is mTH_HzE\n",
      "The genrated password is mTH_HzEM\n",
      "The genrated password is mTH_HzEMT\n",
      "The genrated password is mTH_HzEMTp\n",
      "The genrated password is mTH_HzEMTp1\n",
      "The genrated password is mTH_HzEMTp1T\n",
      "Do you want to generate more password?yes\n",
      "enter the length of req. password: 8\n",
      "enter the number of req. password: 1\n",
      "The genrated password is 5\n",
      "The genrated password is 5a\n",
      "The genrated password is 5a5\n",
      "The genrated password is 5a5t\n",
      "The genrated password is 5a5tI\n",
      "The genrated password is 5a5tIO\n",
      "The genrated password is 5a5tIO#\n",
      "The genrated password is 5a5tIO#9\n",
      "Do you want to generate more password?no\n",
      "Thank you\n"
     ]
    }
   ],
   "source": [
    "import random\n",
    "characters = \"abcdefghijklmnopqrstuvwxyzABCDEFGHIJKLMNOPQRSTUVWXYZ123456789!@#$%^&*_\"\n",
    "\n",
    "while True:\n",
    "    \n",
    "      pass_length = int(input(\"enter the length of req. password: \"))\n",
    "      pass_count = int(input(\"enter the number of req. password: \"))\n",
    "\n",
    "      for i in range (0, pass_count):\n",
    "          password = \"\"\n",
    "          for j in range(0, pass_length):\n",
    "             pass_char = random.choice(characters)\n",
    "             password = password+pass_char\n",
    "             print(\"The genrated password is\",password)\n",
    "      repeat = input(\"Do you want to generate more password?\")\n",
    "      if repeat == \"no\" or repeat == \"No\":\n",
    "        break\n",
    "print(\"Thank you\")"
   ]
  },
  {
   "cell_type": "code",
   "execution_count": null,
   "id": "940eb30c",
   "metadata": {},
   "outputs": [],
   "source": []
  },
  {
   "cell_type": "code",
   "execution_count": null,
   "id": "844033b7",
   "metadata": {},
   "outputs": [],
   "source": []
  }
 ],
 "metadata": {
  "kernelspec": {
   "display_name": "Python 3 (ipykernel)",
   "language": "python",
   "name": "python3"
  },
  "language_info": {
   "codemirror_mode": {
    "name": "ipython",
    "version": 3
   },
   "file_extension": ".py",
   "mimetype": "text/x-python",
   "name": "python",
   "nbconvert_exporter": "python",
   "pygments_lexer": "ipython3",
   "version": "3.10.9"
  }
 },
 "nbformat": 4,
 "nbformat_minor": 5
}
